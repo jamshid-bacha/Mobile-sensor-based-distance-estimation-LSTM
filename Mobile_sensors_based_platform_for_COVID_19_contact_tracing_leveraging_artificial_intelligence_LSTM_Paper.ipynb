{
  "cells": [
    {
      "cell_type": "markdown",
      "metadata": {
        "id": "view-in-github",
        "colab_type": "text"
      },
      "source": [
        "<a href=\"https://colab.research.google.com/github/jamshid1255/Mobile-sensor-based-distance-estimation-LSTM/blob/main/Mobile_sensors_based_platform_for_COVID_19_contact_tracing_leveraging_artificial_intelligence_LSTM_Paper.ipynb\" target=\"_parent\"><img src=\"https://colab.research.google.com/assets/colab-badge.svg\" alt=\"Open In Colab\"/></a>"
      ]
    },
    {
      "cell_type": "code",
      "execution_count": null,
      "metadata": {
        "colab": {
          "base_uri": "https://localhost:8080/"
        },
        "id": "B79pij__GUgX",
        "outputId": "6a6c8155-f6c3-40bc-eebf-6139b57e34b9"
      },
      "outputs": [
        {
          "output_type": "stream",
          "name": "stdout",
          "text": [
            "Mounted at /content/drive\n"
          ]
        }
      ],
      "source": [
        "from google.colab import drive\n",
        "drive.mount('/content/drive')"
      ]
    },
    {
      "cell_type": "markdown",
      "source": [
        "# Mobile sensors based platform for COVID-19 contact tracing leveraging artificial intelligence"
      ],
      "metadata": {
        "id": "ZWq1hxr7zBdx"
      }
    },
    {
      "cell_type": "markdown",
      "source": [
        "### https://link.springer.com/article/10.1007/s12652-023-04713-7"
      ],
      "metadata": {
        "id": "y8abn0BLzYBm"
      }
    },
    {
      "cell_type": "markdown",
      "source": [
        "### Long-Short Term Memory model for mobile/user distance estimation between 1,2 and 3 meter using mobile sensors data"
      ],
      "metadata": {
        "id": "t3vsHaqIzdqN"
      }
    },
    {
      "cell_type": "markdown",
      "metadata": {
        "id": "1-O46TaXSCra"
      },
      "source": [
        "##Feature Data LSTM training"
      ]
    },
    {
      "cell_type": "code",
      "execution_count": null,
      "metadata": {
        "id": "eEcKyRu7JoZQ"
      },
      "outputs": [],
      "source": [
        "import pandas as pd\n",
        "import numpy as np\n",
        "import matplotlib.pyplot as plt\n",
        "import seaborn as sns\n",
        "from sklearn import preprocessing"
      ]
    },
    {
      "cell_type": "code",
      "execution_count": null,
      "metadata": {
        "id": "cZJMd1SfJoZR"
      },
      "outputs": [],
      "source": [
        "col_list = [\"real_distance\", \"behavior\",\n",
        "            \"rssi_mean\",\"ax_mean\",\"ay_mean\",\"az_mean\",\"gx_mean\",\"gy_mean\",\"gz_mean\",\"speed_mean\",\n",
        "            \"rssi_median\",\"ax_median\",\"ay_median\",\"az_median\",\"gx_median\",\"gy_median\",\"gz_median\",\"speed_median\",\n",
        "            \"rssi_std\",\"ax_std\",\"ay_std\",\"az_std\",\"gx_std\",\"gy_std\",\"gz_std\",\"speed_std\",\n",
        "            \"rssi_var\",\"ax_var\",\"ay_var\",\"az_var\",\"gx_var\",\"gy_var\",\"gz_var\",\"speed_var\"]\n",
        "data = pd.read_csv('/content/drive/MyDrive/after data fixing researchpaper/featureAlldatav4.csv', usecols=col_list)\n",
        "data = data.dropna()\n",
        "\n",
        "X = data[[\"rssi_mean\",\"ax_mean\",\"ay_mean\",\"az_mean\",\"gx_mean\",\"gy_mean\",\"gz_mean\",\"speed_mean\",\n",
        "            \"rssi_median\",\"ax_median\",\"ay_median\",\"az_median\",\"gx_median\",\"gy_median\",\"gz_median\",\"speed_median\",\n",
        "            \"rssi_std\",\"ax_std\",\"ay_std\",\"az_std\",\"gx_std\",\"gy_std\",\"gz_std\",\"speed_std\",\n",
        "            \"rssi_var\",\"ax_var\",\"ay_var\",\"az_var\",\"gx_var\",\"gy_var\",\"gz_var\",\"speed_var\"]]\n",
        "y = data[['real_distance']]"
      ]
    },
    {
      "cell_type": "code",
      "execution_count": null,
      "metadata": {
        "id": "d21V1iouJoZR"
      },
      "outputs": [],
      "source": [
        "random_seed = 1024\n",
        "n_time_steps = 200\n",
        "n_features = 32\n",
        "step = 1\n",
        "n_classes = 3\n",
        "batch_size = 512\n",
        "learning_rate = 0.0025\n",
        "l2_loss = 0.0015\n",
        "n_epochs = 50\n",
        "window = 200"
      ]
    },
    {
      "cell_type": "code",
      "execution_count": null,
      "metadata": {
        "id": "Bn7H_v9HJoZS"
      },
      "outputs": [],
      "source": [
        "from scipy import stats\n",
        "segments = []\n",
        "labels = []\n",
        "\n",
        "for i in range(0,  data.shape[0]- n_time_steps):\n",
        "\n",
        "    rssi_mean = data['rssi_mean'].values[i: i + window]\n",
        "\n",
        "    ax_mean = data['ax_mean'].values[i: i + window]\n",
        "\n",
        "    ay_mean = data['ay_mean'].values[i: i + window]\n",
        "\n",
        "    az_mean = data['az_mean'].values[i: i + window]\n",
        "\n",
        "    gx_mean = data['gx_mean'].values[i: i + window]\n",
        "\n",
        "    gy_mean = data['gy_mean'].values[i: i + window]\n",
        "\n",
        "    gz_mean = data['gz_mean'].values[i: i + window]\n",
        "\n",
        "    speed_mean = data['speed_mean'].values[i: i + window]\n",
        "\n",
        "    rssi_median = data['rssi_median'].values[i: i + window]\n",
        "\n",
        "    ax_median = data['ax_median'].values[i: i + window]\n",
        "\n",
        "    ay_median = data['ay_median'].values[i: i + window]\n",
        "\n",
        "    az_median = data['az_median'].values[i: i + window]\n",
        "\n",
        "    gx_median = data['gx_median'].values[i: i + window]\n",
        "\n",
        "    gy_median = data['gy_median'].values[i: i + window]\n",
        "\n",
        "    gz_median = data['gz_median'].values[i: i + window]\n",
        "\n",
        "    speed_median = data['speed_median'].values[i: i + window]\n",
        "\n",
        "    rssi_std = data['rssi_std'].values[i: i + window]\n",
        "\n",
        "    ax_std = data['ax_std'].values[i: i + window]\n",
        "\n",
        "    ay_std = data['ay_std'].values[i: i + window]\n",
        "\n",
        "    az_std = data['az_std'].values[i: i + window]\n",
        "\n",
        "    gx_std = data['gx_std'].values[i: i + window]\n",
        "\n",
        "    gy_std = data['gy_std'].values[i: i + window]\n",
        "\n",
        "    gz_std = data['gz_std'].values[i: i + window]\n",
        "\n",
        "    speed_std = data['speed_std'].values[i: i + window]\n",
        "\n",
        "    rssi_var = data['rssi_var'].values[i: i + window]\n",
        "\n",
        "    ax_var = data['ax_var'].values[i: i + window]\n",
        "\n",
        "    ay_var = data['ay_var'].values[i: i + window]\n",
        "\n",
        "    az_var = data['az_var'].values[i: i + window]\n",
        "\n",
        "    gx_var = data['gx_var'].values[i: i + window]\n",
        "\n",
        "    gy_var = data['gy_var'].values[i: i + window]\n",
        "\n",
        "    gz_var = data['gz_var'].values[i: i + window]\n",
        "\n",
        "    speed_var = data['speed_var'].values[i: i + window]\n",
        "\n",
        "    label = stats.mode(data['real_distance'][i: i + window])[0][0]\n",
        "\n",
        "    segments.append([rssi_mean,ax_mean,ay_mean,az_mean,gx_mean,gy_mean,gz_mean,speed_mean,rssi_median,ax_median,ay_median,az_median,gx_median,gy_median,gz_median,speed_median,rssi_var,ax_var,ay_var,az_var,gx_var,gy_var,gz_var,speed_var,rssi_std,ax_std,ay_std,az_std,gx_std,gy_std,gz_std,speed_std])\n",
        "\n",
        "    labels.append(label)\n",
        "\n",
        "#reshape the segments which is (list of arrays) to a list\n",
        "reshaped_segments = np.asarray(segments, dtype= np.float32).reshape(-1, n_time_steps, n_features)\n",
        "\n",
        "labels = np.asarray(pd.get_dummies(labels), dtype = np.float32)"
      ]
    },
    {
      "cell_type": "code",
      "execution_count": null,
      "metadata": {
        "id": "K3hGQcxvJoZS"
      },
      "outputs": [],
      "source": [
        "from sklearn.model_selection import train_test_split\n",
        "from keras.models import Sequential\n",
        "from keras.layers import LSTM, Dense, Flatten, Dropout\n",
        "\n",
        "X_train, X_test, y_train, y_test = train_test_split(reshaped_segments, labels, test_size = 0.2, random_state = random_seed)"
      ]
    },
    {
      "cell_type": "code",
      "source": [
        "print(X_train.shape)\n",
        "print(X_test.shape)\n",
        "print(y_train.shape)\n",
        "print(y_test.shape)"
      ],
      "metadata": {
        "colab": {
          "base_uri": "https://localhost:8080/"
        },
        "id": "EQ7RGnD-OoSM",
        "outputId": "be22ae0d-1db4-4fb3-99be-f72448016893"
      },
      "execution_count": null,
      "outputs": [
        {
          "output_type": "stream",
          "name": "stdout",
          "text": [
            "(15494, 200, 32)\n",
            "(3874, 200, 32)\n",
            "(15494, 3)\n",
            "(3874, 3)\n"
          ]
        }
      ]
    },
    {
      "cell_type": "code",
      "execution_count": null,
      "metadata": {
        "id": "eObePJInJoZT"
      },
      "outputs": [],
      "source": [
        "model = Sequential()\n",
        "\n",
        "model.add(LSTM(units = 64,return_sequences=True, input_shape = (X_train.shape[1], X_train.shape[2])))\n",
        "model.add(LSTM(32,return_sequences=True))\n",
        "model.add(Dropout(0.5))\n",
        "model.add(LSTM(16,return_sequences=True))\n",
        "model.add(LSTM(16))\n",
        "model.add(Dropout(0.5))\n",
        "model.add(Dense(units = 64, activation='relu'))\n",
        "\n",
        "\n",
        "\n",
        "# Softmax layer\n",
        "model.add(Dense(y_train.shape[1], activation = 'softmax'))\n",
        "# Compile model\n",
        "model.compile(loss='categorical_crossentropy', optimizer='adam', metrics=['accuracy'])\n",
        "model.summary()"
      ]
    },
    {
      "cell_type": "code",
      "execution_count": null,
      "metadata": {
        "id": "7X4x9UAqJoZU"
      },
      "outputs": [],
      "source": [
        "history = model.fit(X_train, y_train, epochs = n_epochs, validation_split = 0.2, batch_size = batch_size, verbose = 1)"
      ]
    },
    {
      "cell_type": "code",
      "execution_count": null,
      "metadata": {
        "colab": {
          "base_uri": "https://localhost:8080/",
          "height": 295
        },
        "outputId": "593e0d0e-9a8e-4bc5-9073-15b756912661",
        "id": "qKC2Tx1TJoZV"
      },
      "outputs": [
        {
          "output_type": "display_data",
          "data": {
            "text/plain": [
              "<Figure size 432x288 with 1 Axes>"
            ],
            "image/png": "[encoded data removed]"
          },
          "metadata": {
            "needs_background": "light"
          }
        }
      ],
      "source": [
        "plt.plot(np.array(history.history['loss']), \"r--\", label = \"Train loss\")\n",
        "plt.plot(np.array(history.history['accuracy']), \"g--\", label = \"Train accuracy\")\n",
        "plt.plot(np.array(history.history['val_loss']), \"r-\", label = \"Validation loss\")\n",
        "plt.plot(np.array(history.history['val_accuracy']), \"g-\", label = \"Validation accuracy\")\n",
        "plt.title(\"Training session's progress over iterations\")\n",
        "plt.legend(loc='lower left')\n",
        "plt.ylabel('Training Progress (Loss/Accuracy)')\n",
        "plt.xlabel('Training Epoch')\n",
        "plt.ylim(0)\n",
        "plt.savefig('/content/drive/MyDrive/LSTM.png',bbox_inches='tight')\n",
        "plt.show()"
      ]
    },
    {
      "cell_type": "code",
      "execution_count": null,
      "metadata": {
        "colab": {
          "base_uri": "https://localhost:8080/"
        },
        "outputId": "0913f3ba-3c93-49a1-863e-8d4b7486d576",
        "id": "M_VYC-qiJoZV"
      },
      "outputs": [
        {
          "output_type": "stream",
          "name": "stdout",
          "text": [
            "8/8 [==============================] - 5s 555ms/step - loss: 0.0356 - accuracy: 0.9907\n",
            "Test Accuracy : 99.0707278251648 %\n",
            "Test Loss : 0.03555399924516678\n"
          ]
        }
      ],
      "source": [
        "loss, accuracy = model.evaluate(X_test, y_test, batch_size = batch_size, verbose = 1)\n",
        "print(\"Test Accuracy :\", accuracy*100,\"%\")\n",
        "print(\"Test Loss :\", loss)"
      ]
    },
    {
      "cell_type": "code",
      "execution_count": null,
      "metadata": {
        "colab": {
          "base_uri": "https://localhost:8080/"
        },
        "outputId": "a009ec29-bddc-4a79-f652-478ef01c1e09",
        "id": "DKMurSREJoZW"
      },
      "outputs": [
        {
          "output_type": "stream",
          "name": "stdout",
          "text": [
            "Mean Absolute Error: 0.007\n",
            "Coefficient of determination : 0.9773756959354664 %\n",
            "Mean Squared Error: 0.004993255\n",
            "Root Mean Squared Error: 0.07066297\n"
          ]
        }
      ],
      "source": [
        "from sklearn import metrics\n",
        "\n",
        "from sklearn.metrics import mean_absolute_error as MAE\n",
        "predicted = model.predict(X_test)\n",
        "mae = MAE(y_test, predicted)\n",
        "print('Mean Absolute Error: %.3f' % (mae))\n",
        "r2=metrics.r2_score(y_test, predicted)\n",
        "print('Coefficient of determination :', r2, '%')\n",
        "#print('Mean Absolute Error:', metrics.mean_absolute_error(y_test, yhat)*100,'%')\n",
        "print('Mean Squared Error:', metrics.mean_squared_error(y_test, predicted))\n",
        "print('Root Mean Squared Error:', np.sqrt(metrics.mean_squared_error(y_test, predicted)))"
      ]
    },
    {
      "cell_type": "code",
      "execution_count": null,
      "metadata": {
        "colab": {
          "base_uri": "https://localhost:8080/",
          "height": 334
        },
        "outputId": "1b8b5851-f155-493a-b410-fdb831a90580",
        "id": "LMzpOf0qJoZW"
      },
      "outputs": [
        {
          "output_type": "stream",
          "name": "stdout",
          "text": [
            "{'0': {'precision': 0.9886282871357498, 'recall': 0.9949928469241774, 'f1-score': 0.9918003565062389, 'support': 1398}, '1': {'precision': 0.9921540656205421, 'recall': 0.9879261363636364, 'f1-score': 0.9900355871886122, 'support': 1408}, '2': {'precision': 0.9915492957746479, 'recall': 0.9887640449438202, 'f1-score': 0.990154711673699, 'support': 1068}, 'accuracy': 0.9907072792978833, 'macro avg': {'precision': 0.9907772161769799, 'recall': 0.9905610094105447, 'f1-score': 0.9906635517895167, 'support': 3874}, 'weighted avg': {'precision': 0.9907150019867903, 'recall': 0.9907072792978833, 'f1-score': 0.9907052754839438, 'support': 3874}}\n"
          ]
        },
        {
          "output_type": "display_data",
          "data": {
            "text/plain": [
              "<Figure size 432x288 with 2 Axes>"
            ],
            "image/png": "[encoded data removed]"
          },
          "metadata": {
            "needs_background": "light"
          }
        }
      ],
      "source": [
        "import sklearn.metrics as metrics\n",
        "from sklearn.metrics import accuracy_score,classification_report\n",
        "predictions = predicted\n",
        "class_names = ['1m', '2m', '3m','Recall']\n",
        "class_names_1 = ['1m', '2m', '3m','Precision']\n",
        "max_test = np.argmax(y_test, axis=1)\n",
        "\n",
        "max_predictions = np.argmax(predictions, axis=1)\n",
        "confusion_matrix = metrics.confusion_matrix(max_test, max_predictions)\n",
        "\n",
        "report = classification_report(max_test, max_predictions, output_dict=True )\n",
        "print(report)\n",
        "pre=[]\n",
        "rec=[]\n",
        "for i in range(3):\n",
        "  pre.append(np.round(report[str(i)]['precision'], 2))\n",
        "  rec.append(np.round([report[str(i)]['recall']], 2))\n",
        "\n",
        "pre.append(0)\n",
        "\n",
        "an_array = np.append(confusion_matrix, rec, axis=1)\n",
        "row = np.array(pre)\n",
        "arr = np.vstack([an_array,row])\n",
        "\n",
        "sns.heatmap(arr, xticklabels = class_names, yticklabels = class_names_1, annot = True, linewidths = 0.2, cmap=plt.cm.Blues,fmt='g')\n",
        "plt.title(\"Confusion matrix (LSTM)\", fontsize = 15)\n",
        "plt.ylabel('True label')\n",
        "plt.xlabel('Predicted label')\n",
        "plt.savefig('/content/drive/MyDrive/LSTM Confusion.png',bbox_inches='tight')\n",
        "plt.show()"
      ]
    },
    {
      "cell_type": "code",
      "execution_count": null,
      "metadata": {
        "colab": {
          "base_uri": "https://localhost:8080/",
          "height": 297
        },
        "outputId": "51773605-664a-4f9d-b4c6-afd163c58662",
        "id": "_U-y9ds2JoZX"
      },
      "outputs": [
        {
          "output_type": "display_data",
          "data": {
            "text/plain": [
              "<Figure size 432x288 with 2 Axes>"
            ],
            "image/png": "[encoded data removed]"
          },
          "metadata": {
            "needs_background": "light"
          }
        }
      ],
      "source": [
        "import sklearn.metrics as metrics\n",
        "from sklearn.metrics import accuracy_score,classification_report\n",
        "predictions = model.predict(X_test)\n",
        "class_names = ['1m', '2m', '3m','Recall']\n",
        "class_names_1 = ['1m', '2m', '3m','Precision']\n",
        "max_test = np.argmax(y_test, axis=1)\n",
        "\n",
        "max_predictions = np.argmax(predictions, axis=1)\n",
        "confusion_matrix = metrics.confusion_matrix(max_test, max_predictions)\n",
        "\n",
        "confusion_matrix = confusion_matrix.astype('float') / confusion_matrix.sum(axis=1)[:, np.newaxis]\n",
        "\n",
        "report = classification_report(max_test, max_predictions, output_dict=True )\n",
        "\n",
        "pre=[]\n",
        "rec=[]\n",
        "for i in range(3):\n",
        "  pre.append(np.round(report[str(i)]['precision'], 2))\n",
        "  rec.append(np.round([report[str(i)]['recall']], 2))\n",
        "\n",
        "pre.append(0)\n",
        "\n",
        "an_array = np.append(confusion_matrix, rec, axis=1)\n",
        "row = np.array(pre)\n",
        "\n",
        "arr = np.vstack([an_array,row])\n",
        "\n",
        "sns.heatmap(arr, xticklabels = class_names, yticklabels = class_names_1, annot = True, linewidths = 0.2, cmap=plt.cm.Greens,fmt='.2')\n",
        "plt.title(\"Confusion matrix (LSTM)\", fontsize = 15)\n",
        "plt.ylabel('True label')\n",
        "plt.xlabel('Predicted label')\n",
        "plt.show()"
      ]
    }
  ],
  "metadata": {
    "colab": {
      "provenance": [],
      "include_colab_link": true
    },
    "kernelspec": {
      "display_name": "Python 3",
      "name": "python3"
    },
    "language_info": {
      "name": "python"
    }
  },
  "nbformat": 4,
  "nbformat_minor": 0
}